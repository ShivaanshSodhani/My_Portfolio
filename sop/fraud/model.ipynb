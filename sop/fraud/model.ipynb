{
 "cells": [
  {
   "cell_type": "markdown",
   "metadata": {},
   "source": [
    "### Includes"
   ]
  },
  {
   "cell_type": "code",
   "execution_count": 1,
   "metadata": {},
   "outputs": [
    {
     "name": "stderr",
     "output_type": "stream",
     "text": [
      "c:\\Users\\SHUBHAM\\anaconda3\\envs\\pytorch\\lib\\site-packages\\scipy\\__init__.py:146: UserWarning: A NumPy version >=1.16.5 and <1.23.0 is required for this version of SciPy (detected version 1.23.1\n",
      "  warnings.warn(f\"A NumPy version >={np_minversion} and <{np_maxversion}\"\n"
     ]
    }
   ],
   "source": [
    "import torch\n",
    "import torch.nn as nn\n",
    "from torch.utils.data import Dataset, DataLoader\n",
    "import torch.optim as optim\n",
    "\n",
    "from sklearn.metrics import f1_score, accuracy_score\n",
    "\n",
    "import pandas as pd\n",
    "import numpy as np\n",
    "from matplotlib import pyplot as plt\n",
    "\n",
    "import openpyxl\n",
    "from tqdm.notebook import tqdm_notebook as tqdm"
   ]
  },
  {
   "cell_type": "markdown",
   "metadata": {},
   "source": [
    "### DATA"
   ]
  },
  {
   "cell_type": "code",
   "execution_count": 16,
   "metadata": {},
   "outputs": [],
   "source": [
    "def get_excel_sheet_names(file_path):\n",
    "    workbook = openpyxl.load_workbook(file_path)\n",
    "    sheet_names = workbook.sheetnames\n",
    "    return sheet_names"
   ]
  },
  {
   "cell_type": "code",
   "execution_count": 89,
   "metadata": {},
   "outputs": [
    {
     "name": "stdout",
     "output_type": "stream",
     "text": [
      "['TCS', 'tatasteel', 'sbi', 'hdfc']\n"
     ]
    }
   ],
   "source": [
    "excel_file_path = './data/data_not_fraud.xlsx'\n",
    "sheet_names = get_excel_sheet_names(excel_file_path)\n",
    "\n",
    "print(sheet_names)"
   ]
  },
  {
   "cell_type": "code",
   "execution_count": 90,
   "metadata": {},
   "outputs": [
    {
     "data": {
      "text/plain": [
       "dict_keys(['TCS', 'tatasteel', 'sbi', 'hdfc'])"
      ]
     },
     "execution_count": 90,
     "metadata": {},
     "output_type": "execute_result"
    }
   ],
   "source": [
    "df = pd.read_excel(excel_file_path, sheet_name=sheet_names, index_col=0)\n",
    "df.keys()"
   ]
  },
  {
   "cell_type": "code",
   "execution_count": 92,
   "metadata": {},
   "outputs": [
    {
     "data": {
      "text/html": [
       "<div>\n",
       "<style scoped>\n",
       "    .dataframe tbody tr th:only-of-type {\n",
       "        vertical-align: middle;\n",
       "    }\n",
       "\n",
       "    .dataframe tbody tr th {\n",
       "        vertical-align: top;\n",
       "    }\n",
       "\n",
       "    .dataframe thead th {\n",
       "        text-align: right;\n",
       "    }\n",
       "</style>\n",
       "<table border=\"1\" class=\"dataframe\">\n",
       "  <thead>\n",
       "    <tr style=\"text-align: right;\">\n",
       "      <th></th>\n",
       "      <th>FY 2004</th>\n",
       "      <th>FY 2005</th>\n",
       "      <th>FY 2006</th>\n",
       "      <th>FY 2007</th>\n",
       "      <th>FY 2008</th>\n",
       "      <th>FY 2009</th>\n",
       "      <th>FY 2010</th>\n",
       "      <th>FY 2011</th>\n",
       "      <th>FY 2012</th>\n",
       "      <th>FY 2013</th>\n",
       "      <th>FY 2014</th>\n",
       "      <th>FY 2015</th>\n",
       "      <th>FY 2016</th>\n",
       "      <th>FY 2017</th>\n",
       "      <th>FY 2018</th>\n",
       "      <th>FY 2019</th>\n",
       "      <th>FY 2020</th>\n",
       "      <th>FY 2021</th>\n",
       "      <th>FY 2022</th>\n",
       "      <th>FY 2023</th>\n",
       "    </tr>\n",
       "  </thead>\n",
       "  <tbody>\n",
       "    <tr>\n",
       "      <th>Return on Common Equity</th>\n",
       "      <td>95.184</td>\n",
       "      <td>71.3497</td>\n",
       "      <td>63.7212</td>\n",
       "      <td>57.3764</td>\n",
       "      <td>47.7519</td>\n",
       "      <td>37.7569</td>\n",
       "      <td>41.1039</td>\n",
       "      <td>42.3425</td>\n",
       "      <td>38.5566</td>\n",
       "      <td>40.8529</td>\n",
       "      <td>40.7257</td>\n",
       "      <td>37.4676</td>\n",
       "      <td>39.112</td>\n",
       "      <td>32.5552</td>\n",
       "      <td>29.422</td>\n",
       "      <td>35.2042</td>\n",
       "      <td>36.8165</td>\n",
       "      <td>37.5606</td>\n",
       "      <td>43.1382</td>\n",
       "      <td>46.3967</td>\n",
       "    </tr>\n",
       "    <tr>\n",
       "      <th>Return on Assets</th>\n",
       "      <td>46.5594</td>\n",
       "      <td>43.7576</td>\n",
       "      <td>44.7078</td>\n",
       "      <td>39.8019</td>\n",
       "      <td>32.688</td>\n",
       "      <td>26.1496</td>\n",
       "      <td>27.9849</td>\n",
       "      <td>30.1889</td>\n",
       "      <td>28.1402</td>\n",
       "      <td>29.7702</td>\n",
       "      <td>31.5771</td>\n",
       "      <td>27.8484</td>\n",
       "      <td>29.374</td>\n",
       "      <td>26.7483</td>\n",
       "      <td>24.1633</td>\n",
       "      <td>27.9178</td>\n",
       "      <td>27.182</td>\n",
       "      <td>25.5576</td>\n",
       "      <td>27.9356</td>\n",
       "      <td>29.3418</td>\n",
       "    </tr>\n",
       "    <tr>\n",
       "      <th>Return on Capital</th>\n",
       "      <td>—</td>\n",
       "      <td>60.6551</td>\n",
       "      <td>59.9417</td>\n",
       "      <td>—</td>\n",
       "      <td>—</td>\n",
       "      <td>36.1322</td>\n",
       "      <td>40.0612</td>\n",
       "      <td>41.8999</td>\n",
       "      <td>38.1187</td>\n",
       "      <td>40.4177</td>\n",
       "      <td>40.4203</td>\n",
       "      <td>37.1425</td>\n",
       "      <td>38.6997</td>\n",
       "      <td>32.4178</td>\n",
       "      <td>29.3107</td>\n",
       "      <td>35.2436</td>\n",
       "      <td>35.4373</td>\n",
       "      <td>34.7839</td>\n",
       "      <td>39.7004</td>\n",
       "      <td>43.1679</td>\n",
       "    </tr>\n",
       "    <tr>\n",
       "      <th>Return on Invested Capital</th>\n",
       "      <td>63.7795</td>\n",
       "      <td>66.5849</td>\n",
       "      <td>57.0539</td>\n",
       "      <td>50.4883</td>\n",
       "      <td>39.4505</td>\n",
       "      <td>38.636</td>\n",
       "      <td>39.2046</td>\n",
       "      <td>38.7909</td>\n",
       "      <td>36.6872</td>\n",
       "      <td>37.7001</td>\n",
       "      <td>38.1678</td>\n",
       "      <td>32.4788</td>\n",
       "      <td>35.2564</td>\n",
       "      <td>28.7653</td>\n",
       "      <td>26.3791</td>\n",
       "      <td>31.5624</td>\n",
       "      <td>30.9993</td>\n",
       "      <td>30.9908</td>\n",
       "      <td>34.1824</td>\n",
       "      <td>36.8829</td>\n",
       "    </tr>\n",
       "    <tr>\n",
       "      <th>Gross Margin</th>\n",
       "      <td>45.896</td>\n",
       "      <td>—</td>\n",
       "      <td>—</td>\n",
       "      <td>—</td>\n",
       "      <td>—</td>\n",
       "      <td>—</td>\n",
       "      <td>—</td>\n",
       "      <td>—</td>\n",
       "      <td>—</td>\n",
       "      <td>—</td>\n",
       "      <td>47.36</td>\n",
       "      <td>—</td>\n",
       "      <td>43.9464</td>\n",
       "      <td>43.2998</td>\n",
       "      <td>42.0912</td>\n",
       "      <td>41.857</td>\n",
       "      <td>—</td>\n",
       "      <td>40.8334</td>\n",
       "      <td>—</td>\n",
       "      <td>39.5595</td>\n",
       "    </tr>\n",
       "  </tbody>\n",
       "</table>\n",
       "</div>"
      ],
      "text/plain": [
       "                            FY 2004  FY 2005  FY 2006  FY 2007  FY 2008  \\\n",
       "Return on Common Equity      95.184  71.3497  63.7212  57.3764  47.7519   \n",
       "Return on Assets            46.5594  43.7576  44.7078  39.8019   32.688   \n",
       "Return on Capital                 —  60.6551  59.9417        —        —   \n",
       "Return on Invested Capital  63.7795  66.5849  57.0539  50.4883  39.4505   \n",
       "Gross Margin                 45.896        —        —        —        —   \n",
       "\n",
       "                            FY 2009  FY 2010  FY 2011  FY 2012  FY 2013  \\\n",
       "Return on Common Equity     37.7569  41.1039  42.3425  38.5566  40.8529   \n",
       "Return on Assets            26.1496  27.9849  30.1889  28.1402  29.7702   \n",
       "Return on Capital           36.1322  40.0612  41.8999  38.1187  40.4177   \n",
       "Return on Invested Capital   38.636  39.2046  38.7909  36.6872  37.7001   \n",
       "Gross Margin                      —        —        —        —        —   \n",
       "\n",
       "                            FY 2014  FY 2015  FY 2016  FY 2017  FY 2018  \\\n",
       "Return on Common Equity     40.7257  37.4676   39.112  32.5552   29.422   \n",
       "Return on Assets            31.5771  27.8484   29.374  26.7483  24.1633   \n",
       "Return on Capital           40.4203  37.1425  38.6997  32.4178  29.3107   \n",
       "Return on Invested Capital  38.1678  32.4788  35.2564  28.7653  26.3791   \n",
       "Gross Margin                  47.36        —  43.9464  43.2998  42.0912   \n",
       "\n",
       "                            FY 2019  FY 2020  FY 2021  FY 2022  FY 2023  \n",
       "Return on Common Equity     35.2042  36.8165  37.5606  43.1382  46.3967  \n",
       "Return on Assets            27.9178   27.182  25.5576  27.9356  29.3418  \n",
       "Return on Capital           35.2436  35.4373  34.7839  39.7004  43.1679  \n",
       "Return on Invested Capital  31.5624  30.9993  30.9908  34.1824  36.8829  \n",
       "Gross Margin                 41.857        —  40.8334        —  39.5595  "
      ]
     },
     "execution_count": 92,
     "metadata": {},
     "output_type": "execute_result"
    }
   ],
   "source": [
    "df['TCS'].head()"
   ]
  },
  {
   "cell_type": "code",
   "execution_count": null,
   "metadata": {},
   "outputs": [],
   "source": []
  },
  {
   "cell_type": "code",
   "execution_count": null,
   "metadata": {},
   "outputs": [],
   "source": []
  },
  {
   "cell_type": "code",
   "execution_count": null,
   "metadata": {},
   "outputs": [],
   "source": []
  },
  {
   "cell_type": "code",
   "execution_count": null,
   "metadata": {},
   "outputs": [],
   "source": []
  },
  {
   "cell_type": "code",
   "execution_count": null,
   "metadata": {},
   "outputs": [],
   "source": []
  },
  {
   "cell_type": "code",
   "execution_count": 2,
   "metadata": {},
   "outputs": [],
   "source": [
    "fpath = './data_not_fraud.xlsx'\n",
    "window_size = 3  "
   ]
  },
  {
   "cell_type": "code",
   "execution_count": 6,
   "metadata": {},
   "outputs": [],
   "source": [
    "X = torch.Tensor()\n",
    "y = torch.Tensor()"
   ]
  },
  {
   "cell_type": "markdown",
   "metadata": {},
   "source": [
    "### Data"
   ]
  },
  {
   "cell_type": "code",
   "execution_count": 9,
   "metadata": {},
   "outputs": [
    {
     "data": {
      "text/plain": [
       "(torch.Size([70, 3, 21]), torch.Size([70]))"
      ]
     },
     "execution_count": 9,
     "metadata": {},
     "output_type": "execute_result"
    }
   ],
   "source": [
    "def impute_missing_values(data):\n",
    "    data.replace('—', pd.NA, inplace=True)\n",
    "    data = data.apply(pd.to_numeric, errors='coerce')\n",
    "    data = data.ffill(axis=1)\n",
    "    data.fillna(0, inplace=True)\n",
    "\n",
    "    return data\n",
    "\n",
    "def create_time_series_df(file_path, window_size, label_type=1):\n",
    "    Xs = torch.Tensor()\n",
    "    ys = torch.Tensor()\n",
    "\n",
    "    if(label_type == 1):\n",
    "        ys = torch.Tensor(np.array([\n",
    "            0,0,0,0,0,1,1,1,0,0, \n",
    "            0,0,0,0,0,0,0,0,0,0,0,0,0,1,\n",
    "            0,0,0,0,1,1,1,0,0,\n",
    "            0,0,0,0,0,0,0,0,0,0,0,0,1,1,\n",
    "            0,0,0,0,0,0,0,0,0,0,0,0,0,1,1,1,0,\n",
    "            0,0,0,0,0,0,0,1,1,1,0,0,0\n",
    "        ]))\n",
    "        \n",
    "\n",
    "    excel_file = pd.ExcelFile(file_path)\n",
    "\n",
    "    for sheet_name in excel_file.sheet_names:\n",
    "        company_data = pd.read_excel(excel_file, sheet_name, index_col=0)\n",
    "\n",
    "        company_data = impute_missing_values(company_data)\n",
    "        company_data = company_data.T\n",
    "\n",
    "        d = company_data.to_numpy()\n",
    "\n",
    "        ret = []\n",
    "        l = []\n",
    "\n",
    "        for i in range(d.shape[0] - window_size + 1):\n",
    "            ret.append(d[i:i+window_size])\n",
    "\n",
    "            if(label_type == 0):\n",
    "                l.append(label_type)\n",
    "\n",
    "        Xs = torch.concat([Xs, torch.Tensor(np.array(ret))], dim=0)\n",
    "\n",
    "        if(label_type == 0):\n",
    "            ys = torch.concat([ys, torch.Tensor(np.array(l))], dim=0)\n",
    "\n",
    "\n",
    "    return Xs, ys\n",
    "\n",
    "fpath = \"./data_not_fraud.xlsx\"\n",
    "Xs, ys = create_time_series_df(fpath, window_size, 0)\n",
    "Xs.shape, ys.shape"
   ]
  },
  {
   "cell_type": "code",
   "execution_count": 11,
   "metadata": {},
   "outputs": [
    {
     "data": {
      "text/plain": [
       "(torch.Size([147, 3, 21]), torch.Size([147]))"
      ]
     },
     "execution_count": 11,
     "metadata": {},
     "output_type": "execute_result"
    }
   ],
   "source": [
    "# X = torch.concat([X, Xs], dim=0)\n",
    "# y = torch.concat([y, ys], dim=0)\n",
    "\n",
    "# print(X.size(0))\n",
    "\n",
    "indices = torch.randperm(X.size(0))\n",
    "\n",
    "X = X[indices]\n",
    "y = y[indices]\n",
    "\n",
    "X.shape, y.shape"
   ]
  },
  {
   "cell_type": "code",
   "execution_count": 12,
   "metadata": {},
   "outputs": [],
   "source": [
    "X_train = X[:120]\n",
    "y_train = y[:120]\n",
    "\n",
    "X_test = X[120:]\n",
    "y_test = y[120:]"
   ]
  },
  {
   "cell_type": "code",
   "execution_count": 13,
   "metadata": {},
   "outputs": [],
   "source": [
    "input_size = 21\n",
    "hidden_size = 64\n",
    "output_size = 1\n",
    "num_layers = 1\n",
    "num_epochs = 1000\n",
    "learning_rate = 0.001"
   ]
  },
  {
   "cell_type": "markdown",
   "metadata": {},
   "source": [
    "### Models"
   ]
  },
  {
   "cell_type": "markdown",
   "metadata": {},
   "source": [
    "#### GRU"
   ]
  },
  {
   "cell_type": "code",
   "execution_count": 14,
   "metadata": {},
   "outputs": [],
   "source": [
    "class GRUModel(nn.Module):\n",
    "    def __init__(self, input_size, hidden_size, output_size, num_layers):\n",
    "        super(GRUModel, self).__init__()\n",
    "        self.hidden_size = hidden_size\n",
    "        self.gru = nn.GRU(input_size, hidden_size, num_layers, batch_first=True)\n",
    "        self.fc = nn.Linear(hidden_size, output_size)\n",
    "        self.sigmoid = nn.Sigmoid()\n",
    "\n",
    "    def forward(self, x):\n",
    "        out, _ = self.gru(x)\n",
    "        out = self.fc(out[:, -1, :])\n",
    "        out = self.sigmoid(out)\n",
    "        return out\n",
    "\n",
    "model = GRUModel(input_size, hidden_size, output_size, num_layers)"
   ]
  },
  {
   "cell_type": "code",
   "execution_count": 15,
   "metadata": {},
   "outputs": [],
   "source": [
    "# Loss and optimizer\n",
    "criterion = nn.BCELoss()\n",
    "optimizer = optim.Adam(model.parameters(), lr=learning_rate)"
   ]
  },
  {
   "cell_type": "code",
   "execution_count": 16,
   "metadata": {},
   "outputs": [],
   "source": [
    "train_loss_list = []"
   ]
  },
  {
   "cell_type": "code",
   "execution_count": 17,
   "metadata": {},
   "outputs": [
    {
     "data": {
      "application/json": {
       "ascii": false,
       "bar_format": null,
       "colour": null,
       "elapsed": 0.023105621337890625,
       "initial": 0,
       "n": 0,
       "ncols": null,
       "nrows": null,
       "postfix": null,
       "prefix": "",
       "rate": null,
       "total": 1000,
       "unit": "it",
       "unit_divisor": 1000,
       "unit_scale": false
      },
      "application/vnd.jupyter.widget-view+json": {
       "model_id": "ac908d6ba61449f4a4172a9c0fedbc80",
       "version_major": 2,
       "version_minor": 0
      },
      "text/plain": [
       "  0%|          | 0/1000 [00:00<?, ?it/s]"
      ]
     },
     "metadata": {},
     "output_type": "display_data"
    },
    {
     "name": "stdout",
     "output_type": "stream",
     "text": [
      "Epoch [100/1000], Loss: 0.1078\n",
      "Epoch [200/1000], Loss: 0.0660\n",
      "Epoch [300/1000], Loss: 0.0433\n",
      "Epoch [400/1000], Loss: 0.0293\n",
      "Epoch [500/1000], Loss: 0.0197\n",
      "Epoch [600/1000], Loss: 0.0144\n",
      "Epoch [700/1000], Loss: 0.0108\n",
      "Epoch [800/1000], Loss: 0.0085\n",
      "Epoch [900/1000], Loss: 0.0070\n",
      "Epoch [1000/1000], Loss: 0.0053\n"
     ]
    }
   ],
   "source": [
    "for epoch in tqdm(range(num_epochs)):\n",
    "    # Forward pass\n",
    "    outputs = model(X_train)\n",
    "\n",
    "    # Compute loss\n",
    "    loss = criterion(outputs.squeeze(), y_train.float())\n",
    "\n",
    "    # Backward and optimize\n",
    "    optimizer.zero_grad()\n",
    "    loss.backward()\n",
    "    optimizer.step()\n",
    "\n",
    "    # Print some information about the training progress\n",
    "    if (epoch + 1) % 100 == 0:\n",
    "        print(f'Epoch [{epoch+1}/{num_epochs}], Loss: {loss.item():.4f}')\n",
    "\n",
    "    train_loss_list.append(loss.item())"
   ]
  },
  {
   "cell_type": "code",
   "execution_count": 18,
   "metadata": {},
   "outputs": [
    {
     "data": {
      "image/png": "[encoded data removed]",
      "text/plain": [
       "<Figure size 640x480 with 1 Axes>"
      ]
     },
     "metadata": {},
     "output_type": "display_data"
    }
   ],
   "source": [
    "plt.plot(range(1, num_epochs+1), train_loss_list, label='Training Loss')\n",
    "plt.title('Training Loss')\n",
    "plt.xlabel('Epochs')\n",
    "plt.ylabel('Loss')\n",
    "plt.legend()\n",
    "plt.show()"
   ]
  },
  {
   "cell_type": "code",
   "execution_count": 1,
   "metadata": {},
   "outputs": [
    {
     "name": "stdout",
     "output_type": "stream",
     "text": [
      "F1 Score: 0.8947\n",
      "Accuracy:  96.30%\n"
     ]
    }
   ],
   "source": [
    "model.eval()\n",
    "with torch.no_grad():\n",
    "    y_pred = model(X_test)\n",
    "\n",
    "# Convert probabilities to binary predictions\n",
    "y_pred_binary = (y_pred > 0.5).float()\n",
    "\n",
    "# Convert predictions and true labels to numpy arrays\n",
    "y_pred_np = y_pred_binary.cpu().numpy()\n",
    "y_test_np = y_test.cpu().numpy()\n",
    "\n",
    "# Calculate F1 score\n",
    "f1 = f1_score(y_test_np, y_pred_np)\n",
    "ac = accuracy_score(y_test_np, y_pred_np) * 100.0\n",
    "\n",
    "print(f'F1 Score: {f1:.4f}')\n",
    "print(f'Accuracy: {ac: .2f}%')"
   ]
  },
  {
   "cell_type": "code",
   "execution_count": 20,
   "metadata": {},
   "outputs": [
    {
     "data": {
      "text/plain": [
       "array([0., 0., 0., 0., 0., 0., 0., 0., 0., 0., 0., 0., 0., 0., 0., 0., 0.,\n",
       "       1., 0., 0., 0., 1., 0., 0., 0., 0., 0.], dtype=float32)"
      ]
     },
     "execution_count": 20,
     "metadata": {},
     "output_type": "execute_result"
    }
   ],
   "source": [
    "y_test_np"
   ]
  },
  {
   "cell_type": "markdown",
   "metadata": {},
   "source": [
    "#### Attention"
   ]
  },
  {
   "cell_type": "code",
   "execution_count": null,
   "metadata": {},
   "outputs": [],
   "source": []
  }
 ],
 "metadata": {
  "kernelspec": {
   "display_name": "pytorch",
   "language": "python",
   "name": "python3"
  },
  "language_info": {
   "codemirror_mode": {
    "name": "ipython",
    "version": 3
   },
   "file_extension": ".py",
   "mimetype": "text/x-python",
   "name": "python",
   "nbconvert_exporter": "python",
   "pygments_lexer": "ipython3",
   "version": "3.9.7"
  }
 },
 "nbformat": 4,
 "nbformat_minor": 2
}
